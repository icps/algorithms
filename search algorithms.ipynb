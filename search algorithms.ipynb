{
 "cells": [
  {
   "cell_type": "code",
   "execution_count": 1,
   "metadata": {},
   "outputs": [],
   "source": [
    "import random as rnd\n",
    "from copy import deepcopy"
   ]
  },
  {
   "cell_type": "code",
   "execution_count": 2,
   "metadata": {},
   "outputs": [
    {
     "data": {
      "text/plain": [
       "[60, 66, 25, 5, 61, 34, 1, 48, 89, 54, 92, 13, 84, 47, 99, 30, 15, 76, 87, 41]"
      ]
     },
     "execution_count": 2,
     "metadata": {},
     "output_type": "execute_result"
    }
   ],
   "source": [
    "array = rnd.sample(range(0, 100), 20)\n",
    "list(array)"
   ]
  },
  {
   "cell_type": "markdown",
   "metadata": {},
   "source": [
    "# Linear search"
   ]
  },
  {
   "cell_type": "code",
   "execution_count": 3,
   "metadata": {},
   "outputs": [],
   "source": [
    "def linear_search(array, v):\n",
    "    for i in range(0, len(array)):\n",
    "        if array[i] == v:\n",
    "            return v\n",
    "\n",
    "    return None"
   ]
  },
  {
   "cell_type": "code",
   "execution_count": 4,
   "metadata": {},
   "outputs": [],
   "source": [
    "linear_search(array, 14)"
   ]
  },
  {
   "cell_type": "markdown",
   "metadata": {},
   "source": [
    "# Binary search"
   ]
  },
  {
   "cell_type": "code",
   "execution_count": 5,
   "metadata": {},
   "outputs": [],
   "source": [
    "def binary_search(array, v):\n",
    "    \n",
    "    n = len(array)\n",
    "    while n > 0:\n",
    "        \n",
    "        print(array)\n",
    "        \n",
    "        n = len(array) // 2\n",
    "    \n",
    "        if array[n] == v:\n",
    "            return v\n",
    "\n",
    "        elif array[n] > v:\n",
    "            array = array[:n]\n",
    "\n",
    "        else:\n",
    "            array = array[n:]\n",
    "            \n",
    "    return None"
   ]
  },
  {
   "cell_type": "code",
   "execution_count": 6,
   "metadata": {},
   "outputs": [
    {
     "name": "stdout",
     "output_type": "stream",
     "text": [
      "[1, 5, 13, 15, 25, 30, 34, 41, 47, 48, 54, 60, 61, 66, 76, 84, 87, 89, 92, 99]\n",
      "[1, 5, 13, 15, 25, 30, 34, 41, 47, 48]\n",
      "[30, 34, 41, 47, 48]\n",
      "[41, 47, 48]\n",
      "[47, 48]\n",
      "[48]\n"
     ]
    }
   ],
   "source": [
    "binary_search(sorted(array), 52)"
   ]
  },
  {
   "cell_type": "code",
   "execution_count": 33,
   "metadata": {},
   "outputs": [],
   "source": [
    "def recursive_binary_search(array, first, last, v):\n",
    "        \n",
    "    if first > last:\n",
    "        return None\n",
    "    \n",
    "    n = (first + last) // 2\n",
    "\n",
    "    if array[n] == v:\n",
    "        return v\n",
    "\n",
    "    elif array[n] > v:\n",
    "        return recursive_binary_search(array, first, n - 1, v)\n",
    "\n",
    "    else: # array[n] < v\n",
    "        return recursive_binary_search(array, n + 1, last, v)"
   ]
  },
  {
   "cell_type": "code",
   "execution_count": 34,
   "metadata": {},
   "outputs": [
    {
     "data": {
      "text/plain": [
       "13"
      ]
     },
     "execution_count": 34,
     "metadata": {},
     "output_type": "execute_result"
    }
   ],
   "source": [
    "first = 1\n",
    "last  = len(array)\n",
    "recursive_binary_search(sorted(array), first, last, 13)"
   ]
  },
  {
   "cell_type": "code",
   "execution_count": 56,
   "metadata": {},
   "outputs": [],
   "source": [
    "def exist_sum(array, x):\n",
    "    array = sorted(array)\n",
    "    \n",
    "    last  = len(array) - 1\n",
    "    first = 0\n",
    "\n",
    "    while first != last:\n",
    "        s1     = array[last]       \n",
    "        s2     = array[first] \n",
    "        adding = s1 + s2\n",
    "        \n",
    "        print(s1, s2)\n",
    "        \n",
    "        if adding == x:\n",
    "            return \"{} + {} = {}\".format(s1, s2, x)\n",
    "        \n",
    "        elif adding > x:\n",
    "            last = last - 1\n",
    "            \n",
    "        else:\n",
    "            first = first + 1\n",
    "\n",
    "    return None"
   ]
  },
  {
   "cell_type": "code",
   "execution_count": 57,
   "metadata": {},
   "outputs": [
    {
     "data": {
      "text/plain": [
       "[1, 5, 13, 15, 25, 30, 34, 41, 47, 48, 54, 60, 61, 66, 76, 84, 87, 89, 92, 99]"
      ]
     },
     "execution_count": 57,
     "metadata": {},
     "output_type": "execute_result"
    }
   ],
   "source": [
    "sorted(array)"
   ]
  },
  {
   "cell_type": "code",
   "execution_count": 59,
   "metadata": {
    "scrolled": true
   },
   "outputs": [
    {
     "name": "stdout",
     "output_type": "stream",
     "text": [
      "99 1\n"
     ]
    },
    {
     "data": {
      "text/plain": [
       "'99 + 1 = 100'"
      ]
     },
     "execution_count": 59,
     "metadata": {},
     "output_type": "execute_result"
    }
   ],
   "source": [
    "exist_sum(array, 100)"
   ]
  },
  {
   "cell_type": "code",
   "execution_count": null,
   "metadata": {},
   "outputs": [],
   "source": []
  }
 ],
 "metadata": {
  "kernelspec": {
   "display_name": "Python 3",
   "language": "python",
   "name": "python3"
  },
  "language_info": {
   "codemirror_mode": {
    "name": "ipython",
    "version": 3
   },
   "file_extension": ".py",
   "mimetype": "text/x-python",
   "name": "python",
   "nbconvert_exporter": "python",
   "pygments_lexer": "ipython3",
   "version": "3.8.3"
  }
 },
 "nbformat": 4,
 "nbformat_minor": 4
}

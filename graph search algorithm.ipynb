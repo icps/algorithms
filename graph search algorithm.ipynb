{
 "cells": [
  {
   "cell_type": "code",
   "execution_count": 1,
   "metadata": {},
   "outputs": [],
   "source": [
    "graph = {\n",
    "    's': ['w', 'r'],\n",
    "    'r': ['s', 'v'],\n",
    "    'v': ['r'],\n",
    "    'w': ['t', 's', 'x'],\n",
    "    't': ['w', 'x', 'u'],\n",
    "    'x': ['w', 't', 'u', 'y'],\n",
    "    'u': ['t', 'x', 'y'],\n",
    "    'y': ['x', 'u']\n",
    "}"
   ]
  },
  {
   "cell_type": "markdown",
   "metadata": {},
   "source": [
    "### Breadth-first search"
   ]
  },
  {
   "cell_type": "code",
   "execution_count": 2,
   "metadata": {},
   "outputs": [],
   "source": [
    "def BFS(G, source):\n",
    "    \n",
    "    ## all are white\n",
    "    visited  = []\n",
    "    queue    = []\n",
    "    \n",
    "    distance = {}\n",
    "    parent   = {}\n",
    "    \n",
    "    ## source is gray\n",
    "    visited.append(source)\n",
    "    queue.append(source)\n",
    "    \n",
    "    distance[source] = 0\n",
    "    parent[source]   = None\n",
    "    \n",
    "    print(\"Breadth-first search\")\n",
    "    \n",
    "    while queue:\n",
    "        \n",
    "        node = queue.pop(0)    # dequeue\n",
    "        print(node, end = \" \")\n",
    "                \n",
    "        for neighbor in G[node]:\n",
    "            \n",
    "            if neighbor not in visited:     # if color[neighbor] == WHITE:\n",
    "                visited.append(neighbor)    # color[neighbor] = gray\n",
    "                queue.append(neighbor)\n",
    "                \n",
    "                distance[neighbor] = distance[node] + 1\n",
    "                parent[neighbor]   = node\n",
    "                \n",
    "    print(\"\\n\")\n",
    "    print(\"Distances: {}\".format(distance))\n",
    "    print(\"Ancestors: {}\".format(parent))"
   ]
  },
  {
   "cell_type": "code",
   "execution_count": 3,
   "metadata": {},
   "outputs": [
    {
     "name": "stdout",
     "output_type": "stream",
     "text": [
      "Breadth-first search\n",
      "s w r t x v u y \n",
      "\n",
      "Distances: {'s': 0, 'w': 1, 'r': 1, 't': 2, 'x': 2, 'v': 2, 'u': 3, 'y': 3}\n",
      "Ancestors: {'s': None, 'w': 's', 'r': 's', 't': 'w', 'x': 'w', 'v': 'r', 'u': 't', 'y': 'x'}\n"
     ]
    }
   ],
   "source": [
    "BFS(graph, 's')"
   ]
  },
  {
   "cell_type": "markdown",
   "metadata": {},
   "source": [
    "### Depth-first search"
   ]
  },
  {
   "cell_type": "markdown",
   "metadata": {},
   "source": [
    "#### Recursive"
   ]
  },
  {
   "cell_type": "code",
   "execution_count": 6,
   "metadata": {},
   "outputs": [],
   "source": [
    "def DFS(G):  \n",
    "    time = 0\n",
    "    time = time + 1\n",
    "    \n",
    "    opening   = {}\n",
    "    finishing = {}\n",
    "    parent    = {}\n",
    "    \n",
    "    visited   = set()\n",
    "    \n",
    "    print(\"Depth-first search\")\n",
    "    \n",
    "    for vertex in G:\n",
    "        if vertex not in visited:    # if color[vertex] == WHITE\n",
    "            opening[vertex] = time\n",
    "            parent[vertex]  = None\n",
    "            \n",
    "            print(vertex, end = \" \")\n",
    "            \n",
    "            visited.add(vertex)\n",
    "                        \n",
    "            time = DFS_visit(G, vertex, visited, opening, finishing, parent, time)\n",
    "\n",
    "    return parent, opening, finishing\n",
    "            \n",
    "        \n",
    "def DFS_visit(G, vertex, visited, opening, finishing, parent, time):\n",
    "    time = time + 1\n",
    "        \n",
    "    for neighbor in graph[vertex]:\n",
    "        if neighbor not in visited:\n",
    "            print(neighbor, end = \" \")\n",
    "            \n",
    "            opening[neighbor] = time\n",
    "            parent[neighbor]  = vertex\n",
    "            \n",
    "            visited.add(neighbor)\n",
    "            \n",
    "            time = DFS_visit(G, neighbor, visited, opening, finishing, parent, time)\n",
    "            \n",
    "    time = time + 1\n",
    "    \n",
    "    finishing[vertex] = time\n",
    "    \n",
    "    return time"
   ]
  },
  {
   "cell_type": "code",
   "execution_count": 7,
   "metadata": {
    "scrolled": true
   },
   "outputs": [
    {
     "name": "stdout",
     "output_type": "stream",
     "text": [
      "Depth-first search\n",
      "s w t x u y r v \n",
      "\n",
      "Ancestors: {'s': None, 'w': 's', 't': 'w', 'x': 't', 'u': 'x', 'y': 'u', 'r': 's', 'v': 'r'}\n",
      "Opening  : {'s': 1, 'w': 2, 't': 3, 'x': 4, 'u': 5, 'y': 6, 'r': 12, 'v': 13}\n",
      "Finishing: {'y': 8, 'u': 9, 'x': 10, 't': 11, 'w': 12, 'v': 15, 'r': 16, 's': 17}\n"
     ]
    }
   ],
   "source": [
    "parent, opening, finishing = DFS(graph)\n",
    "\n",
    "print(\"\\n\")\n",
    "print(\"Ancestors: {}\".format(parent))\n",
    "\n",
    "print(\"Opening  : {}\".format(opening))\n",
    "print(\"Finishing: {}\".format(finishing))"
   ]
  },
  {
   "cell_type": "markdown",
   "metadata": {},
   "source": [
    "#### Iterative"
   ]
  },
  {
   "cell_type": "code",
   "execution_count": 8,
   "metadata": {},
   "outputs": [],
   "source": [
    "def DFS_iterative(G):   \n",
    "    \n",
    "    visited   = set()\n",
    "    stack     = []\n",
    "    \n",
    "    path      = []\n",
    "    \n",
    "    print(\"Depth-first search\")\n",
    "    \n",
    "    for vertex in G:\n",
    "        if vertex not in visited:    # if color[vertex] == WHITE\n",
    "\n",
    "            ## source is gray\n",
    "            visited.add(vertex)\n",
    "            stack.append(vertex)\n",
    "\n",
    "            while stack:\n",
    "                \n",
    "                node  = stack.pop()\n",
    "                print(node, end = \" \")\n",
    "                \n",
    "                path.append(node)\n",
    "\n",
    "                for neighbor in G[node]:\n",
    "                    if neighbor not in visited:    # if color[vertex] == WHITE\n",
    "                        \n",
    "                        stack.append(neighbor)\n",
    "                        visited.add(neighbor)\n",
    "                        \n",
    "    return path"
   ]
  },
  {
   "cell_type": "code",
   "execution_count": 9,
   "metadata": {
    "scrolled": true
   },
   "outputs": [
    {
     "name": "stdout",
     "output_type": "stream",
     "text": [
      "Depth-first search\n",
      "s r v w x y u t "
     ]
    },
    {
     "data": {
      "text/plain": [
       "['s', 'r', 'v', 'w', 'x', 'y', 'u', 't']"
      ]
     },
     "execution_count": 9,
     "metadata": {},
     "output_type": "execute_result"
    }
   ],
   "source": [
    "path = DFS_iterative(graph)\n",
    "path"
   ]
  },
  {
   "cell_type": "markdown",
   "metadata": {},
   "source": [
    "### Topological-sort"
   ]
  },
  {
   "cell_type": "code",
   "execution_count": 10,
   "metadata": {},
   "outputs": [],
   "source": [
    "def topological_sort(G, as_list = False):\n",
    "    _, _, finishing = DFS(G)\n",
    "    \n",
    "    vertices = list(finishing.keys())\n",
    "    \n",
    "    if as_list == True:\n",
    "        return vertices\n",
    "    \n",
    "    else:\n",
    "        llist = {vertices[v]: vertices[v + 1] for v in range(len(finishing)-1)}\n",
    "\n",
    "        return llist"
   ]
  },
  {
   "cell_type": "code",
   "execution_count": 14,
   "metadata": {},
   "outputs": [
    {
     "name": "stdout",
     "output_type": "stream",
     "text": [
      "Depth-first search\n",
      "p o s r y v x w z u t n q m "
     ]
    },
    {
     "data": {
      "text/plain": [
       "{'x': 'z',\n",
       " 'z': 'w',\n",
       " 'w': 'v',\n",
       " 'v': 'y',\n",
       " 'y': 't',\n",
       " 't': 'u',\n",
       " 'u': 'r',\n",
       " 'r': 's',\n",
       " 's': 'o',\n",
       " 'o': 'p',\n",
       " 'p': 'q',\n",
       " 'q': 'n',\n",
       " 'n': 'm'}"
      ]
     },
     "execution_count": 14,
     "metadata": {},
     "output_type": "execute_result"
    }
   ],
   "source": [
    "topological_sort(graph)"
   ]
  },
  {
   "cell_type": "code",
   "execution_count": 15,
   "metadata": {},
   "outputs": [
    {
     "name": "stdout",
     "output_type": "stream",
     "text": [
      "Depth-first search\n",
      "p o s r y v x w z u t n q m "
     ]
    },
    {
     "data": {
      "text/plain": [
       "['x', 'z', 'w', 'v', 'y', 't', 'u', 'r', 's', 'o', 'p', 'q', 'n', 'm']"
      ]
     },
     "execution_count": 15,
     "metadata": {},
     "output_type": "execute_result"
    }
   ],
   "source": [
    "topological_sort(graph, as_list = True)"
   ]
  },
  {
   "cell_type": "code",
   "execution_count": null,
   "metadata": {},
   "outputs": [],
   "source": []
  }
 ],
 "metadata": {
  "kernelspec": {
   "display_name": "Python 3",
   "language": "python",
   "name": "python3"
  },
  "language_info": {
   "codemirror_mode": {
    "name": "ipython",
    "version": 3
   },
   "file_extension": ".py",
   "mimetype": "text/x-python",
   "name": "python",
   "nbconvert_exporter": "python",
   "pygments_lexer": "ipython3",
   "version": "3.8.3"
  }
 },
 "nbformat": 4,
 "nbformat_minor": 4
}
